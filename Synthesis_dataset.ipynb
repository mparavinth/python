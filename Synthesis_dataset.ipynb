{
  "nbformat": 4,
  "nbformat_minor": 0,
  "metadata": {
    "colab": {
      "provenance": [],
      "authorship_tag": "ABX9TyPdwoe4uasOjmdEtkVVIxUX",
      "include_colab_link": true
    },
    "kernelspec": {
      "name": "python3",
      "display_name": "Python 3"
    },
    "language_info": {
      "name": "python"
    }
  },
  "cells": [
    {
      "cell_type": "markdown",
      "metadata": {
        "id": "view-in-github",
        "colab_type": "text"
      },
      "source": [
        "<a href=\"https://colab.research.google.com/github/mparavinth/python/blob/main/Synthesis_dataset.ipynb\" target=\"_parent\"><img src=\"https://colab.research.google.com/assets/colab-badge.svg\" alt=\"Open In Colab\"/></a>"
      ]
    },
    {
      "cell_type": "code",
      "execution_count": 1,
      "metadata": {
        "colab": {
          "base_uri": "https://localhost:8080/"
        },
        "id": "dp0NqFW2qNOR",
        "outputId": "40eadb2c-596b-4338-fca5-374aa85074f8"
      },
      "outputs": [
        {
          "output_type": "stream",
          "name": "stdout",
          "text": [
            "Collecting Faker\n",
            "  Downloading Faker-33.1.0-py3-none-any.whl.metadata (15 kB)\n",
            "Requirement already satisfied: python-dateutil>=2.4 in /usr/local/lib/python3.10/dist-packages (from Faker) (2.8.2)\n",
            "Requirement already satisfied: typing-extensions in /usr/local/lib/python3.10/dist-packages (from Faker) (4.12.2)\n",
            "Requirement already satisfied: six>=1.5 in /usr/local/lib/python3.10/dist-packages (from python-dateutil>=2.4->Faker) (1.17.0)\n",
            "Downloading Faker-33.1.0-py3-none-any.whl (1.9 MB)\n",
            "\u001b[2K   \u001b[90m━━━━━━━━━━━━━━━━━━━━━━━━━━━━━━━━━━━━━━━━\u001b[0m \u001b[32m1.9/1.9 MB\u001b[0m \u001b[31m28.2 MB/s\u001b[0m eta \u001b[36m0:00:00\u001b[0m\n",
            "\u001b[?25hInstalling collected packages: Faker\n",
            "Successfully installed Faker-33.1.0\n"
          ]
        }
      ],
      "source": [
        "!pip install Faker"
      ]
    },
    {
      "cell_type": "code",
      "source": [
        "import pandas as pd\n",
        "from faker import Faker\n",
        "import random\n",
        "fake = Faker()\n",
        "\n",
        "Faker.seed(5000)\n",
        "\n",
        "#generating\n",
        "print(\"Male names::\"+fake.name_male())\n",
        "print(\"Female names:::\"+fake.name_female())\n",
        "\n",
        "rest_id=[]\n",
        "cust_id=[]\n",
        "order_id=[]\n",
        "deliveryPerson_id=[]\n",
        "restaurant_Names = ['Paradise biryani', 'Sangeetha veg restaurant', 'McDonalds', \"KFC\", 'Adyar anandha bhavan', 'Downtown']\n",
        "cusine_type = ['Italian', 'Asian', 'Mexican', \"Korean\", 'Continental', 'South indian']\n",
        "cusines = ['Fried rice', 'Idly', 'Dosa', 'Biryani','Pizza','Chappathi','Parotta', 'Pongal', 'vada', 'Poori', 'Channa batura', 'Naan', 'Roti', 'Veg meals', 'Non veg meals']\n",
        "rating = [1,2,3,4,5]\n",
        "status = ['Pending','Delivered','Cancelled']\n",
        "payment_mode = ['Credit Card','Cash','UPI']\n",
        "vehicle_Type=['Bike','Car']\n",
        "\n",
        "def createCustomerData(x):\n",
        "  data={}\n",
        "\n",
        "  for i in range(x):\n",
        "     data[i]={}\n",
        "     custid = random.sample(range(1000), 1000)\n",
        "     data[i]['customer_id'] = custid\n",
        "     cust_id.append(custid)\n",
        "     data[i]['name'] = fake.name()\n",
        "     data[i]['email'] = fake.email()\n",
        "     data[i]['phone'] = fake.phone_number()\n",
        "     data[i]['location'] = fake.address()\n",
        "     data[i]['signup_date'] = fake.date_this_decade()\n",
        "     data[i]['is_premium'] = fake.boolean()\n",
        "     data[i]['preferred_cuisine'] = fake.random_element(cusines)\n",
        "     data[i]['total_orders'] = fake.random_int(min=0, max=100)\n",
        "     data[i]['average_rating'] = fake.random_element(rating)\n",
        "\n",
        "  return data\n",
        "\n",
        "\n",
        "def createRestaurantData(x):\n",
        "  restaurant={}\n",
        "\n",
        "  for i in range(x):\n",
        "     restaurant[i]={}\n",
        "     restId = random.sample(range(1000), 1000)\n",
        "     restaurant[i]['restaurant_id'] = restId\n",
        "     rest_id.append(restId)\n",
        "     restaurant[i]['name'] = fake.random_element(restaurant_Names)\n",
        "     restaurant[i]['cuisine_type'] = fake.random_element(cusine_type)\n",
        "     restaurant[i]['location'] = fake.street_address()\n",
        "     restaurant[i]['owner_name'] = fake.name()\n",
        "     restaurant[i]['average_delivery_time'] = random.sample(range(45), 45)\n",
        "     restaurant[i]['contact_number'] = fake.phone_number()\n",
        "     restaurant[i]['rating'] = fake.random_element(rating)\n",
        "     restaurant[i]['total_orders'] = random.sample(range(10000), 10000)\n",
        "     restaurant[i]['is_active'] = fake.boolean()\n",
        "\n",
        "  return restaurant\n",
        "\n",
        "def createOrderData(x):\n",
        "  order={}\n",
        "\n",
        "  for i in range(x):\n",
        "     order[i]={}\n",
        "     orderId = fake.uuid4()\n",
        "     order[i]['order_id'] = fake.uuid4()\n",
        "     order_id.append(orderId)\n",
        "\n",
        "     order[i]['customer_id'] = fake.random_element(cust_id)\n",
        "     order[i]['restaurant_id'] = fake.random_element(rest_id)\n",
        "     order[i]['order_date'] = fake.date_this_decade()\n",
        "     order[i]['delivery_time'] = random.sample(range(45), 45)\n",
        "     order[i]['status'] = fake.random_element(status)\n",
        "     order[i]['total_amount'] = random.sample(range(5000), 5000)\n",
        "     order[i]['payment_mode'] = fake.random_element(payment_mode)\n",
        "     order[i]['discount_applied'] = random.sample(range(1000), 1000)\n",
        "     order[i]['feedback_rating'] = fake.random_element(rating)\n",
        "\n",
        "  return order\n",
        "\n",
        "def createDeliveryPersonData(x):\n",
        "  deliveryPerson={}\n",
        "\n",
        "  for i in range(x):\n",
        "     deliveryPerson[i]={}\n",
        "     deliveryPersonid =random.sample(range(1000), 1000)\n",
        "     deliveryPerson[i]['delivery_person_id'] = deliveryPersonid\n",
        "     deliveryPerson_id.append(deliveryPersonid)\n",
        "\n",
        "     deliveryPerson[i]['name'] = fake.name()\n",
        "     deliveryPerson[i]['contact_number'] = fake.phone_number()\n",
        "     deliveryPerson[i]['vehicle_type'] = fake.random_element(vehicle_Type)\n",
        "     deliveryPerson[i]['total_deliveries'] = random.sample(range(10000), 10000)\n",
        "     deliveryPerson[i]['average_rating'] = fake.random_element(rating)\n",
        "     deliveryPerson[i]['location'] = fake.address()\n",
        "\n",
        "\n",
        "  return deliveryPerson\n",
        "\n",
        "def createOrderDeliveryData(x):\n",
        "  order_delivery={}\n",
        "\n",
        "  for i in range(x):\n",
        "     order_delivery[i]={}\n",
        "\n",
        "     order_delivery[i]['delivery_id'] = random.sample(range(1000), 1000)\n",
        "     order_delivery[i]['order_id'] = fake.random_element(order_id)\n",
        "     order_delivery[i]['delivery_person_id'] = fake.random_element(deliveryPerson_id)\n",
        "\n",
        "     order_delivery[i]['delivery_status'] = fake.random_element(status)\n",
        "     order_delivery[i]['distance'] = random.sample(range(20), 20)\n",
        "     order_delivery[i]['delivery_time'] = random.sample(range(60), 60)\n",
        "     order_delivery[i]['estimated_time'] = random.sample(range(60), 60)\n",
        "     order_delivery[i]['delivery_fee'] = random.sample(range(150), 150)\n",
        "     order_delivery[i]['vehicle_type'] = fake.random_element(vehicle_Type)\n",
        "\n",
        "\n",
        "  return order_delivery\n",
        "\n",
        "#CustomerDataCreation\n",
        "customer_data = createCustomerData(5)\n",
        "\n",
        "#RestauarantDataCreation\n",
        "restaurant_data = createRestaurantData(6)\n",
        "\n",
        "#OrderDataCreation\n",
        "order_data = createOrderData(500)\n",
        "\n",
        "#DeliveryPerson details\n",
        "deliveryPerson_Data = createDeliveryPersonData(100)\n",
        "\n",
        "#Order Delivery table details\n",
        "delivery_data = createOrderDeliveryData(500)\n",
        "\n",
        ""
      ],
      "metadata": {
        "colab": {
          "base_uri": "https://localhost:8080/"
        },
        "id": "o7NKEfGrqtN5",
        "outputId": "bed18c41-f758-47bf-a774-a294eaea9038"
      },
      "execution_count": 47,
      "outputs": [
        {
          "output_type": "stream",
          "name": "stdout",
          "text": [
            "Male names::Richard Gibson\n",
            "Female names:::Sara Wagner\n"
          ]
        }
      ]
    },
    {
      "cell_type": "code",
      "source": [
        "\n"
      ],
      "metadata": {
        "id": "TcddhPP5rHdz"
      },
      "execution_count": 38,
      "outputs": []
    },
    {
      "cell_type": "code",
      "source": [],
      "metadata": {
        "id": "w90LoOnTZDYT"
      },
      "execution_count": null,
      "outputs": []
    }
  ]
}